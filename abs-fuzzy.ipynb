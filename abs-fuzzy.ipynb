{
 "cells": [
  {
   "cell_type": "code",
   "execution_count": null,
   "metadata": {},
   "outputs": [],
   "source": [
    "'''\n",
    "JUPYTER NOTEBOOK SHORTCUTS\n",
    "\n",
    "-> While in command mode(ESC):\n",
    "\n",
    "H: show commands            V: paste cells below\n",
    "A: insert cell above        shift + V: paste cells above\n",
    "B: insert cell below        Y: change the cell type to CODE\n",
    "X: cut selected cells       M:   //    //  //  //  to MARKDOWN\n",
    "C: copy selected cells      D, D: delete selected cells \n",
    "\n",
    "-> While in edit mode:\n",
    "\n",
    "shift + enter: Run current cell and select below\n",
    "CTRL + ]: indent         CTRL + Home: got to cell start \n",
    "CTRL + [: dedent         CTRL + End: go to cell end\n",
    "'''"
   ]
  },
  {
   "cell_type": "code",
   "execution_count": null,
   "metadata": {},
   "outputs": [],
   "source": [
    "'''\n",
    "ABS FUZZYLOGIC SYSTEM\n",
    "\n",
    "github: https://github.com/regisfaria\n",
    "'''"
   ]
  }
 ],
 "metadata": {
  "kernelspec": {
   "display_name": "Python 3",
   "language": "python",
   "name": "python3"
  },
  "language_info": {
   "codemirror_mode": {
    "name": "ipython",
    "version": 3
   },
   "file_extension": ".py",
   "mimetype": "text/x-python",
   "name": "python",
   "nbconvert_exporter": "python",
   "pygments_lexer": "ipython3",
   "version": "3.7.4+"
  }
 },
 "nbformat": 4,
 "nbformat_minor": 2
}
